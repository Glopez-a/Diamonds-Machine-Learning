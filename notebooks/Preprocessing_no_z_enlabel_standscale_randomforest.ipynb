{
 "cells": [
  {
   "cell_type": "code",
   "execution_count": null,
   "id": "92c0a4cc",
   "metadata": {},
   "outputs": [],
   "source": [
    "import pandas as pd\n",
    "import requests\n",
    "import json\n",
    "import plotly.express as px\n",
    "import matplotlib.pyplot as plt\n",
    "import seaborn as sns\n",
    "\n",
    "from sklearn import datasets\n",
    "from sklearn.datasets import make_regression\n",
    "from sklearn.model_selection import train_test_split\n",
    "import pickle\n",
    "import joblib\n",
    "\n",
    "from sklearn import linear_model\n",
    "from sklearn.linear_model import ElasticNet\n",
    "from sklearn.linear_model import Ridge\n",
    "from sklearn.svm import SVR\n",
    "from sklearn.linear_model import SGDRegressor\n",
    "from sklearn.linear_model import LinearRegression\n",
    "from sklearn.ensemble import RandomForestRegressor\n",
    "from sklearn.ensemble import GradientBoostingRegressor\n",
    "from sklearn.model_selection import GridSearchCV\n",
    "from sklearn.metrics import mean_squared_error\n",
    "\n",
    "from sklearn.preprocessing import RobustScaler, StandardScaler\n",
    "from sklearn.preprocessing import OneHotEncoder, OrdinalEncoder, LabelEncoder"
   ]
  },
  {
   "cell_type": "code",
   "execution_count": null,
   "id": "4dab4754",
   "metadata": {},
   "outputs": [],
   "source": [
    "df = pd.read_csv(\"../data/df_baseline.csv\")\n",
    "test = pd.read_csv(\"../data/tests/diamonds_test.csv\")"
   ]
  },
  {
   "cell_type": "code",
   "execution_count": null,
   "id": "9d9cab78",
   "metadata": {},
   "outputs": [],
   "source": [
    "df"
   ]
  },
  {
   "cell_type": "code",
   "execution_count": null,
   "id": "496705d7",
   "metadata": {},
   "outputs": [],
   "source": [
    "test"
   ]
  },
  {
   "cell_type": "code",
   "execution_count": null,
   "id": "f9f227fb",
   "metadata": {},
   "outputs": [],
   "source": [
    "df.describe()"
   ]
  },
  {
   "cell_type": "code",
   "execution_count": null,
   "id": "fa182f76",
   "metadata": {},
   "outputs": [],
   "source": []
  },
  {
   "cell_type": "code",
   "execution_count": null,
   "id": "a682dd43",
   "metadata": {},
   "outputs": [],
   "source": [
    "df = df[df['x'] > 0.05]\n",
    "df = df[df['x'] < 90]"
   ]
  },
  {
   "cell_type": "code",
   "execution_count": null,
   "id": "01928fde",
   "metadata": {},
   "outputs": [],
   "source": [
    "df = df[df['y'] > 0.05]\n",
    "df = df[df['y'] < 50]"
   ]
  },
  {
   "cell_type": "code",
   "execution_count": null,
   "id": "6ef5ef0a",
   "metadata": {},
   "outputs": [],
   "source": [
    "df = df[df['z'] > 2]\n"
   ]
  },
  {
   "cell_type": "code",
   "execution_count": null,
   "id": "2cbc7bfc",
   "metadata": {},
   "outputs": [],
   "source": [
    "df = df[df['depth'] > 50]\n",
    "df = df[df['depth'] < 75]"
   ]
  },
  {
   "cell_type": "code",
   "execution_count": null,
   "id": "b8da0254",
   "metadata": {},
   "outputs": [],
   "source": [
    "df = df[df['table'] > 45]\n",
    "df = df[df['table'] < 75]"
   ]
  },
  {
   "cell_type": "code",
   "execution_count": null,
   "id": "4ae38c38",
   "metadata": {},
   "outputs": [],
   "source": [
    "df['L/W ratio'] = df['x'] / df['y']"
   ]
  },
  {
   "cell_type": "code",
   "execution_count": null,
   "id": "e17c3d1c",
   "metadata": {},
   "outputs": [],
   "source": [
    "test.describe()"
   ]
  },
  {
   "cell_type": "code",
   "execution_count": null,
   "id": "b6fd6be2",
   "metadata": {},
   "outputs": [],
   "source": [
    "test.loc[test['y'] < 2, 'y'] = 5.739648\n",
    "test.loc[test['y'] > 10, 'y'] = 10"
   ]
  },
  {
   "cell_type": "code",
   "execution_count": null,
   "id": "948b7dca",
   "metadata": {},
   "outputs": [],
   "source": [
    "test.loc[test['x'] < 2, 'x'] = 5.729978\n",
    "test.loc[test['x'] > 10, 'x'] = 10"
   ]
  },
  {
   "cell_type": "code",
   "execution_count": null,
   "id": "132cb8df",
   "metadata": {},
   "outputs": [],
   "source": [
    "test.loc[test['z'] < 2, 'z'] = 3.538479"
   ]
  },
  {
   "cell_type": "code",
   "execution_count": null,
   "id": "ce16aa6d",
   "metadata": {},
   "outputs": [],
   "source": [
    "test.loc[test['table'] < 49, 'table'] = 57.490337\n",
    "test.loc[test['table'] > 73, 'table'] = 57.490337"
   ]
  },
  {
   "cell_type": "code",
   "execution_count": null,
   "id": "8d100b35",
   "metadata": {},
   "outputs": [],
   "source": [
    "test.loc[test['depth'] < 52, 'depth'] = 61.753581\n",
    "test.loc[test['depth'] > 73, 'depth'] = 61.753581"
   ]
  },
  {
   "cell_type": "code",
   "execution_count": null,
   "id": "f9ff3380",
   "metadata": {},
   "outputs": [],
   "source": [
    "test['L/W ratio'] = test['x'] / test['y']\n",
    "test"
   ]
  },
  {
   "cell_type": "code",
   "execution_count": null,
   "id": "361b71e0",
   "metadata": {},
   "outputs": [],
   "source": [
    "df"
   ]
  },
  {
   "cell_type": "code",
   "execution_count": null,
   "id": "370119f2",
   "metadata": {},
   "outputs": [],
   "source": [
    "df.describe()"
   ]
  },
  {
   "cell_type": "code",
   "execution_count": null,
   "id": "be06de79",
   "metadata": {},
   "outputs": [],
   "source": [
    "df.corr()"
   ]
  },
  {
   "cell_type": "code",
   "execution_count": null,
   "id": "06b7b501",
   "metadata": {},
   "outputs": [],
   "source": [
    "sns.jointplot(data=df, x=\"table\", y=\"price\")"
   ]
  },
  {
   "cell_type": "code",
   "execution_count": null,
   "id": "87715235",
   "metadata": {},
   "outputs": [],
   "source": [
    "sns.jointplot(data=df, x=\"depth\", y=\"price\")"
   ]
  },
  {
   "cell_type": "code",
   "execution_count": null,
   "id": "8566fb44",
   "metadata": {},
   "outputs": [],
   "source": [
    "sns.jointplot(data=df, x=\"x\", y=\"price\")"
   ]
  },
  {
   "cell_type": "code",
   "execution_count": null,
   "id": "e1395de9",
   "metadata": {},
   "outputs": [],
   "source": [
    "sns.jointplot(data=df, x=\"y\", y=\"price\")"
   ]
  },
  {
   "cell_type": "code",
   "execution_count": null,
   "id": "9c7ef7ac",
   "metadata": {},
   "outputs": [],
   "source": [
    "sns.jointplot(data=df, x=\"carat\", y=\"price\")"
   ]
  },
  {
   "cell_type": "code",
   "execution_count": null,
   "id": "81684359",
   "metadata": {},
   "outputs": [],
   "source": [
    "sns.jointplot(data=df, x=\"z\", y=\"price\")"
   ]
  },
  {
   "cell_type": "code",
   "execution_count": null,
   "id": "236a82d1",
   "metadata": {},
   "outputs": [],
   "source": [
    "df.describe()"
   ]
  },
  {
   "cell_type": "code",
   "execution_count": null,
   "id": "e196e2a0",
   "metadata": {},
   "outputs": [],
   "source": [
    "test.describe()\n"
   ]
  },
  {
   "cell_type": "code",
   "execution_count": null,
   "id": "1b758471",
   "metadata": {},
   "outputs": [],
   "source": [
    "df"
   ]
  },
  {
   "cell_type": "code",
   "execution_count": null,
   "id": "115200af",
   "metadata": {},
   "outputs": [],
   "source": [
    "test"
   ]
  },
  {
   "cell_type": "code",
   "execution_count": null,
   "id": "cbd1adc0",
   "metadata": {},
   "outputs": [],
   "source": [
    "sns.histplot(data=test, x=\"carat\")"
   ]
  },
  {
   "cell_type": "code",
   "execution_count": null,
   "id": "f535b57e",
   "metadata": {},
   "outputs": [],
   "source": []
  },
  {
   "cell_type": "code",
   "execution_count": null,
   "id": "0cbc2243",
   "metadata": {},
   "outputs": [],
   "source": [
    "test.describe()"
   ]
  },
  {
   "cell_type": "code",
   "execution_count": null,
   "id": "9ff6dd3c",
   "metadata": {},
   "outputs": [],
   "source": []
  },
  {
   "cell_type": "code",
   "execution_count": null,
   "id": "939b69bd",
   "metadata": {},
   "outputs": [],
   "source": []
  },
  {
   "cell_type": "code",
   "execution_count": null,
   "id": "fcf5c09d",
   "metadata": {},
   "outputs": [],
   "source": []
  },
  {
   "cell_type": "code",
   "execution_count": null,
   "id": "3349e3d0",
   "metadata": {},
   "outputs": [],
   "source": [
    "\n"
   ]
  },
  {
   "cell_type": "code",
   "execution_count": null,
   "id": "ca49c309",
   "metadata": {},
   "outputs": [],
   "source": []
  },
  {
   "cell_type": "code",
   "execution_count": null,
   "id": "0a6fa7a9",
   "metadata": {},
   "outputs": [],
   "source": []
  },
  {
   "cell_type": "code",
   "execution_count": null,
   "id": "7cb410e2",
   "metadata": {},
   "outputs": [],
   "source": [
    "test.describe()"
   ]
  },
  {
   "cell_type": "markdown",
   "id": "8f4357a5",
   "metadata": {},
   "source": [
    "## Categorical data"
   ]
  },
  {
   "cell_type": "code",
   "execution_count": null,
   "id": "a4f93fe6",
   "metadata": {},
   "outputs": [],
   "source": [
    "#Extract City\n",
    "df_cat = df[['cut','color','clarity']]\n",
    "df_cat"
   ]
  },
  {
   "cell_type": "code",
   "execution_count": null,
   "id": "4dcc558e",
   "metadata": {},
   "outputs": [],
   "source": [
    "cols = df_cat.columns"
   ]
  },
  {
   "cell_type": "code",
   "execution_count": null,
   "id": "bb91d033",
   "metadata": {},
   "outputs": [],
   "source": [
    "#Label encoding\n",
    "\n",
    "le = LabelEncoder()\n",
    "for i in cols:\n",
    "    df_cat[i] = le.fit_transform(df_cat[i])\n",
    "df_cat"
   ]
  },
  {
   "cell_type": "code",
   "execution_count": null,
   "id": "03fce421",
   "metadata": {},
   "outputs": [],
   "source": [
    "test_cols = ['cut','color','clarity']\n",
    "for i in test_cols:\n",
    "    test[i] = le.fit_transform(test[i])\n",
    "test"
   ]
  },
  {
   "cell_type": "markdown",
   "id": "d7335978",
   "metadata": {},
   "source": [
    "# Numerical variables\n"
   ]
  },
  {
   "cell_type": "code",
   "execution_count": null,
   "id": "0e0044cd",
   "metadata": {},
   "outputs": [],
   "source": [
    "df_num = df[['price','carat','depth','table','x','y','z','L/W ratio']]\n",
    "df_num"
   ]
  },
  {
   "cell_type": "code",
   "execution_count": null,
   "id": "7ce8bef0",
   "metadata": {},
   "outputs": [],
   "source": []
  },
  {
   "cell_type": "code",
   "execution_count": null,
   "id": "f0c72eb6",
   "metadata": {},
   "outputs": [],
   "source": []
  },
  {
   "cell_type": "code",
   "execution_count": null,
   "id": "1065ed38",
   "metadata": {},
   "outputs": [],
   "source": [
    "test.describe()"
   ]
  },
  {
   "cell_type": "code",
   "execution_count": null,
   "id": "27b11bda",
   "metadata": {},
   "outputs": [],
   "source": [
    "df_num.describe()"
   ]
  },
  {
   "cell_type": "code",
   "execution_count": null,
   "id": "dd1aca65",
   "metadata": {},
   "outputs": [],
   "source": []
  },
  {
   "cell_type": "code",
   "execution_count": null,
   "id": "bb935b06",
   "metadata": {},
   "outputs": [],
   "source": []
  },
  {
   "cell_type": "code",
   "execution_count": null,
   "id": "5a48fa23",
   "metadata": {},
   "outputs": [],
   "source": [
    "df = pd.concat([df_num, df_cat], axis=1)"
   ]
  },
  {
   "cell_type": "code",
   "execution_count": null,
   "id": "bafa49ea",
   "metadata": {},
   "outputs": [],
   "source": [
    "df"
   ]
  },
  {
   "cell_type": "code",
   "execution_count": null,
   "id": "c36c403a",
   "metadata": {},
   "outputs": [],
   "source": [
    "df.corr()"
   ]
  },
  {
   "cell_type": "code",
   "execution_count": null,
   "id": "4b0faebb",
   "metadata": {},
   "outputs": [],
   "source": [
    "df = df[['price','carat','depth','table','L/W ratio','cut','color','clarity']]\n",
    "df"
   ]
  },
  {
   "cell_type": "code",
   "execution_count": null,
   "id": "c9fa6050",
   "metadata": {},
   "outputs": [],
   "source": [
    "test = test[['carat','depth','table','L/W ratio','cut','color','clarity']]\n",
    "test"
   ]
  },
  {
   "cell_type": "code",
   "execution_count": null,
   "id": "88cbd263",
   "metadata": {},
   "outputs": [],
   "source": [
    "X = df[['carat','depth','table','L/W ratio','cut','color','clarity']]\n",
    "y = df['price']"
   ]
  },
  {
   "cell_type": "code",
   "execution_count": null,
   "id": "8ebb6ed6",
   "metadata": {},
   "outputs": [],
   "source": []
  },
  {
   "cell_type": "markdown",
   "id": "c3ee58a7",
   "metadata": {},
   "source": [
    "## Scaling"
   ]
  },
  {
   "cell_type": "code",
   "execution_count": null,
   "id": "559c5d6d",
   "metadata": {},
   "outputs": [],
   "source": [
    "scaler = StandardScaler()\n",
    "scaled_data = scaler.fit_transform(X)\n",
    "scaled_data"
   ]
  },
  {
   "cell_type": "code",
   "execution_count": null,
   "id": "74baeb71",
   "metadata": {},
   "outputs": [],
   "source": [
    "scaled_df = pd.DataFrame(scaled_data, columns=['price','carat','depth','table','L/W ratio','cut','color','clarity'])\n",
    "scaled_df.describe()"
   ]
  },
  {
   "cell_type": "code",
   "execution_count": null,
   "id": "32eebaa2",
   "metadata": {},
   "outputs": [],
   "source": [
    "scaled_test = scaler.fit_transform(test)\n",
    "scaled_test"
   ]
  },
  {
   "cell_type": "code",
   "execution_count": null,
   "id": "ca47cdc5",
   "metadata": {},
   "outputs": [],
   "source": [
    "scaled_test = pd.DataFrame(scaled_test, columns=['carat','depth','table','L/W ratio','cut','color','clarity'])\n",
    "scaled_test.describe()"
   ]
  },
  {
   "cell_type": "code",
   "execution_count": null,
   "id": "a62c45ee",
   "metadata": {},
   "outputs": [],
   "source": [
    "X = scaled_df"
   ]
  },
  {
   "cell_type": "code",
   "execution_count": null,
   "id": "88306062",
   "metadata": {},
   "outputs": [],
   "source": []
  },
  {
   "cell_type": "code",
   "execution_count": null,
   "id": "ab7924bc",
   "metadata": {},
   "outputs": [],
   "source": []
  },
  {
   "cell_type": "code",
   "execution_count": null,
   "id": "039894ae",
   "metadata": {},
   "outputs": [],
   "source": [
    "# MODEL\n",
    "\n",
    "#model = RandomForestRegressor()\n",
    "model = GradientBoostingRegressor()"
   ]
  },
  {
   "cell_type": "code",
   "execution_count": null,
   "id": "83565371",
   "metadata": {},
   "outputs": [],
   "source": [
    "param_grid = {'n_estimators': [16, 32, 64, 128, 256, 512],\n",
    "              'max_depth': [2, 4, 8, 16]}"
   ]
  },
  {
   "cell_type": "code",
   "execution_count": null,
   "id": "1e0b9c69",
   "metadata": {},
   "outputs": [],
   "source": [
    "grid_search = GridSearchCV(model,\n",
    "                           param_grid,\n",
    "                           cv=5,\n",
    "                           verbose=3,\n",
    "                           scoring='neg_root_mean_squared_error',\n",
    "                           n_jobs=-1)"
   ]
  },
  {
   "cell_type": "code",
   "execution_count": null,
   "id": "64994a04",
   "metadata": {},
   "outputs": [],
   "source": [
    "grid_search.fit(X,y)"
   ]
  },
  {
   "cell_type": "code",
   "execution_count": null,
   "id": "3e225ae7",
   "metadata": {},
   "outputs": [],
   "source": [
    "print('\\n')\n",
    "print('Best hyperparameters: ', grid_search.best_params_, '\\n')\n",
    "print('Best score: ', -grid_search.best_score_, '\\n')"
   ]
  },
  {
   "cell_type": "code",
   "execution_count": null,
   "id": "c129f564",
   "metadata": {},
   "outputs": [],
   "source": [
    "final_model = grid_search.best_estimator_"
   ]
  },
  {
   "cell_type": "code",
   "execution_count": null,
   "id": "1dbdf04e",
   "metadata": {},
   "outputs": [],
   "source": [
    "#model = RandomForestRegressor(max_depth=16, n_estimators=128)\n",
    "model = GradientBoostingRegressor(max_depth=8, n_estimators=256)"
   ]
  },
  {
   "cell_type": "code",
   "execution_count": null,
   "id": "883f242a",
   "metadata": {},
   "outputs": [],
   "source": [
    "model.fit(X_train, y_train)"
   ]
  },
  {
   "cell_type": "code",
   "execution_count": null,
   "id": "76788f46",
   "metadata": {},
   "outputs": [],
   "source": [
    "predictions = model.predict(X_test)"
   ]
  },
  {
   "cell_type": "code",
   "execution_count": null,
   "id": "062b637c",
   "metadata": {},
   "outputs": [],
   "source": [
    "check = pd.DataFrame({'Ground truth':y_test, 'Predictions':predictions, 'Diff':y_test-predictions})\n",
    "check"
   ]
  },
  {
   "cell_type": "code",
   "execution_count": null,
   "id": "d1286fa6",
   "metadata": {},
   "outputs": [],
   "source": [
    "rmse = mean_squared_error(y_test, predictions, squared=False)\n",
    "rmse"
   ]
  },
  {
   "cell_type": "code",
   "execution_count": null,
   "id": "a83b115b",
   "metadata": {},
   "outputs": [],
   "source": [
    "model = RandomForestRegressor(max_depth=8, n_estimators=256)"
   ]
  },
  {
   "cell_type": "code",
   "execution_count": null,
   "id": "d7b62b35",
   "metadata": {},
   "outputs": [],
   "source": [
    "model.fit(X, y)"
   ]
  },
  {
   "cell_type": "code",
   "execution_count": null,
   "id": "aa113f66",
   "metadata": {},
   "outputs": [],
   "source": [
    "predictions = model.predict(test)"
   ]
  },
  {
   "cell_type": "code",
   "execution_count": null,
   "id": "3a3dc089",
   "metadata": {},
   "outputs": [],
   "source": [
    "predictions"
   ]
  },
  {
   "cell_type": "code",
   "execution_count": null,
   "id": "c6585e61",
   "metadata": {},
   "outputs": [],
   "source": [
    "result = pd.DataFrame({'id': range(0, len(predictions)), 'price': predictions})\n",
    "result"
   ]
  },
  {
   "cell_type": "code",
   "execution_count": null,
   "id": "ff9527e6",
   "metadata": {},
   "outputs": [],
   "source": [
    "result.describe()"
   ]
  },
  {
   "cell_type": "code",
   "execution_count": null,
   "id": "2a9f5882",
   "metadata": {},
   "outputs": [],
   "source": [
    "result.to_csv(\"../submissions/submision_no_z_enlabel_random_forest.csv\", index=False)"
   ]
  },
  {
   "cell_type": "code",
   "execution_count": null,
   "id": "aa2c0101",
   "metadata": {},
   "outputs": [],
   "source": [
    "X"
   ]
  },
  {
   "cell_type": "code",
   "execution_count": null,
   "id": "2970ed82",
   "metadata": {},
   "outputs": [],
   "source": []
  }
 ],
 "metadata": {
  "kernelspec": {
   "display_name": "Python [conda env:m2_env]",
   "language": "python",
   "name": "conda-env-m2_env-py"
  },
  "language_info": {
   "codemirror_mode": {
    "name": "ipython",
    "version": 3
   },
   "file_extension": ".py",
   "mimetype": "text/x-python",
   "name": "python",
   "nbconvert_exporter": "python",
   "pygments_lexer": "ipython3",
   "version": "3.11.3"
  }
 },
 "nbformat": 4,
 "nbformat_minor": 5
}
